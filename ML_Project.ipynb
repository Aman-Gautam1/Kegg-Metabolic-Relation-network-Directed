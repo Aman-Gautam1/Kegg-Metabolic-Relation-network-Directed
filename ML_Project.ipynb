{
  "nbformat": 4,
  "nbformat_minor": 0,
  "metadata": {
    "colab": {
      "provenance": [],
      "toc_visible": true
    },
    "kernelspec": {
      "name": "python3",
      "display_name": "Python 3"
    },
    "language_info": {
      "name": "python"
    }
  },
  "cells": [
    {
      "cell_type": "markdown",
      "source": [
        "#IMPORTING IMP LIBRARIES"
      ],
      "metadata": {
        "id": "aEDBOiNDgMBX"
      }
    },
    {
      "cell_type": "code",
      "execution_count": 1,
      "metadata": {
        "id": "aeapAieWdIuD"
      },
      "outputs": [],
      "source": [
        "import numpy as np\n",
        "import matplotlib.pyplot as plt\n",
        "import pandas as pd"
      ]
    },
    {
      "cell_type": "markdown",
      "source": [
        "# IMPORTING THE DATASET"
      ],
      "metadata": {
        "id": "k5Eecf_igfij"
      }
    },
    {
      "cell_type": "code",
      "source": [
        "df=pd.read_csv(\"metabolic_relation_network.csv\")\n",
        "df.head(10)\n"
      ],
      "metadata": {
        "colab": {
          "base_uri": "https://localhost:8080/",
          "height": 473
        },
        "id": "-RIq1NuHd7Dr",
        "outputId": "b07ccc48-6217-43ef-f818-645fff58b41f"
      },
      "execution_count": 2,
      "outputs": [
        {
          "output_type": "execute_result",
          "data": {
            "text/plain": [
              "   Pathway   Nodes   Edges   Connected Components   Network Diameter    \\\n",
              "0  aac00010      26      43                      2                   7   \n",
              "1  aac00020      27      52                      2                  10   \n",
              "2  aac00030      26      53                      2                   6   \n",
              "3  aac00040      20      28                      1                   8   \n",
              "4  aac00051      15      33                      1                   4   \n",
              "5  aac00052      18      29                      3                   4   \n",
              "6  aac00061      46      74                      1                   4   \n",
              "7  aac00071      37      67                      2                  16   \n",
              "8  aac00072       8      14                      1                   2   \n",
              "9  aac00130      12      11                      2                   6   \n",
              "\n",
              "   Network Radius   Shortest Path   Characteristic Path Length   \\\n",
              "0                1             211                     3.222749   \n",
              "1                1             226                     3.411504   \n",
              "2                1             202                     2.732673   \n",
              "3                1              65                     2.523077   \n",
              "4                2              85                     1.858824   \n",
              "5                1              75                     2.133333   \n",
              "6                1             337                     2.611276   \n",
              "7                1             383                     4.360313   \n",
              "8                1              19                     1.263158   \n",
              "9                1              29                     2.310345   \n",
              "\n",
              "   Avg.num.Neighbours   Isolated Nodes   ...   Stress    SelfLoops   \\\n",
              "0             3.230769                0  ...  27.000000           0   \n",
              "1             3.851852                0  ...  26.629630           0   \n",
              "2             3.769231                0  ...  14.961538           0   \n",
              "3             2.600000                0  ...   4.950000           0   \n",
              "4             4.400000                0  ...   5.000000           0   \n",
              "5             3.000000                0  ...   6.944444           0   \n",
              "6             3.086957                0  ...  11.804348           0   \n",
              "7             3.405405                0  ...  34.783784           0   \n",
              "8             3.500000                0  ...   0.875000           0   \n",
              "9             1.833333                0  ...   3.166667           0   \n",
              "\n",
              "   PartnerOfMultiEdgedNodePairs   EdgeCount   BetweennessCentrality    \\\n",
              "0                       0.076923    3.307692                 0.062418   \n",
              "1                       0.000000    3.851852                 0.036567   \n",
              "2                       0.230769    4.076923                 0.026604   \n",
              "3                       0.100000    2.800000                 0.014474   \n",
              "4                       0.000000    4.400000                 0.026740   \n",
              "5                       0.222222    3.222222                 0.061111   \n",
              "6                       0.086957    3.173913                 0.005962   \n",
              "7                       0.000000    3.405405                 0.031002   \n",
              "8                       0.000000    3.500000                 0.014881   \n",
              "9                       0.000000    1.833333                 0.118056   \n",
              "\n",
              "   Indegree   Eccentricity   ClosenessCentrality   AverageShortestPathLength  \\\n",
              "0   1.653846       3.923077              0.375199                   2.210114   \n",
              "1   1.925926       4.074074              0.399880                   2.168687   \n",
              "2   2.038462       3.115385              0.430368                   1.864288   \n",
              "3   1.400000       2.450000              0.481044                   1.492500   \n",
              "4   2.200000       2.333333              0.518691                   1.532326   \n",
              "5   1.611111       1.944444              0.473544                   1.444753   \n",
              "6   1.586957       1.086957              0.325266                   0.890847   \n",
              "7   1.702703       5.810811              0.352584                   3.354656   \n",
              "8   1.750000       0.875000              0.409722                   0.623214   \n",
              "9   0.916667       2.166667              0.466865                   1.444444   \n",
              "\n",
              "   ClusteringCoefficient   \n",
              "0                0.221154  \n",
              "1                0.290197  \n",
              "2                0.230311  \n",
              "3                0.210000  \n",
              "4                0.267222  \n",
              "5                0.253571  \n",
              "6                0.058015  \n",
              "7                0.120828  \n",
              "8                0.393750  \n",
              "9                0.069444  \n",
              "\n",
              "[10 rows x 24 columns]"
            ],
            "text/html": [
              "\n",
              "  <div id=\"df-486d0d78-ce24-41ff-b263-08715665f5f3\">\n",
              "    <div class=\"colab-df-container\">\n",
              "      <div>\n",
              "<style scoped>\n",
              "    .dataframe tbody tr th:only-of-type {\n",
              "        vertical-align: middle;\n",
              "    }\n",
              "\n",
              "    .dataframe tbody tr th {\n",
              "        vertical-align: top;\n",
              "    }\n",
              "\n",
              "    .dataframe thead th {\n",
              "        text-align: right;\n",
              "    }\n",
              "</style>\n",
              "<table border=\"1\" class=\"dataframe\">\n",
              "  <thead>\n",
              "    <tr style=\"text-align: right;\">\n",
              "      <th></th>\n",
              "      <th>Pathway</th>\n",
              "      <th>Nodes</th>\n",
              "      <th>Edges</th>\n",
              "      <th>Connected Components</th>\n",
              "      <th>Network Diameter</th>\n",
              "      <th>Network Radius</th>\n",
              "      <th>Shortest Path</th>\n",
              "      <th>Characteristic Path Length</th>\n",
              "      <th>Avg.num.Neighbours</th>\n",
              "      <th>Isolated Nodes</th>\n",
              "      <th>...</th>\n",
              "      <th>Stress</th>\n",
              "      <th>SelfLoops</th>\n",
              "      <th>PartnerOfMultiEdgedNodePairs</th>\n",
              "      <th>EdgeCount</th>\n",
              "      <th>BetweennessCentrality</th>\n",
              "      <th>Indegree</th>\n",
              "      <th>Eccentricity</th>\n",
              "      <th>ClosenessCentrality</th>\n",
              "      <th>AverageShortestPathLength</th>\n",
              "      <th>ClusteringCoefficient</th>\n",
              "    </tr>\n",
              "  </thead>\n",
              "  <tbody>\n",
              "    <tr>\n",
              "      <th>0</th>\n",
              "      <td>aac00010</td>\n",
              "      <td>26</td>\n",
              "      <td>43</td>\n",
              "      <td>2</td>\n",
              "      <td>7</td>\n",
              "      <td>1</td>\n",
              "      <td>211</td>\n",
              "      <td>3.222749</td>\n",
              "      <td>3.230769</td>\n",
              "      <td>0</td>\n",
              "      <td>...</td>\n",
              "      <td>27.000000</td>\n",
              "      <td>0</td>\n",
              "      <td>0.076923</td>\n",
              "      <td>3.307692</td>\n",
              "      <td>0.062418</td>\n",
              "      <td>1.653846</td>\n",
              "      <td>3.923077</td>\n",
              "      <td>0.375199</td>\n",
              "      <td>2.210114</td>\n",
              "      <td>0.221154</td>\n",
              "    </tr>\n",
              "    <tr>\n",
              "      <th>1</th>\n",
              "      <td>aac00020</td>\n",
              "      <td>27</td>\n",
              "      <td>52</td>\n",
              "      <td>2</td>\n",
              "      <td>10</td>\n",
              "      <td>1</td>\n",
              "      <td>226</td>\n",
              "      <td>3.411504</td>\n",
              "      <td>3.851852</td>\n",
              "      <td>0</td>\n",
              "      <td>...</td>\n",
              "      <td>26.629630</td>\n",
              "      <td>0</td>\n",
              "      <td>0.000000</td>\n",
              "      <td>3.851852</td>\n",
              "      <td>0.036567</td>\n",
              "      <td>1.925926</td>\n",
              "      <td>4.074074</td>\n",
              "      <td>0.399880</td>\n",
              "      <td>2.168687</td>\n",
              "      <td>0.290197</td>\n",
              "    </tr>\n",
              "    <tr>\n",
              "      <th>2</th>\n",
              "      <td>aac00030</td>\n",
              "      <td>26</td>\n",
              "      <td>53</td>\n",
              "      <td>2</td>\n",
              "      <td>6</td>\n",
              "      <td>1</td>\n",
              "      <td>202</td>\n",
              "      <td>2.732673</td>\n",
              "      <td>3.769231</td>\n",
              "      <td>0</td>\n",
              "      <td>...</td>\n",
              "      <td>14.961538</td>\n",
              "      <td>0</td>\n",
              "      <td>0.230769</td>\n",
              "      <td>4.076923</td>\n",
              "      <td>0.026604</td>\n",
              "      <td>2.038462</td>\n",
              "      <td>3.115385</td>\n",
              "      <td>0.430368</td>\n",
              "      <td>1.864288</td>\n",
              "      <td>0.230311</td>\n",
              "    </tr>\n",
              "    <tr>\n",
              "      <th>3</th>\n",
              "      <td>aac00040</td>\n",
              "      <td>20</td>\n",
              "      <td>28</td>\n",
              "      <td>1</td>\n",
              "      <td>8</td>\n",
              "      <td>1</td>\n",
              "      <td>65</td>\n",
              "      <td>2.523077</td>\n",
              "      <td>2.600000</td>\n",
              "      <td>0</td>\n",
              "      <td>...</td>\n",
              "      <td>4.950000</td>\n",
              "      <td>0</td>\n",
              "      <td>0.100000</td>\n",
              "      <td>2.800000</td>\n",
              "      <td>0.014474</td>\n",
              "      <td>1.400000</td>\n",
              "      <td>2.450000</td>\n",
              "      <td>0.481044</td>\n",
              "      <td>1.492500</td>\n",
              "      <td>0.210000</td>\n",
              "    </tr>\n",
              "    <tr>\n",
              "      <th>4</th>\n",
              "      <td>aac00051</td>\n",
              "      <td>15</td>\n",
              "      <td>33</td>\n",
              "      <td>1</td>\n",
              "      <td>4</td>\n",
              "      <td>2</td>\n",
              "      <td>85</td>\n",
              "      <td>1.858824</td>\n",
              "      <td>4.400000</td>\n",
              "      <td>0</td>\n",
              "      <td>...</td>\n",
              "      <td>5.000000</td>\n",
              "      <td>0</td>\n",
              "      <td>0.000000</td>\n",
              "      <td>4.400000</td>\n",
              "      <td>0.026740</td>\n",
              "      <td>2.200000</td>\n",
              "      <td>2.333333</td>\n",
              "      <td>0.518691</td>\n",
              "      <td>1.532326</td>\n",
              "      <td>0.267222</td>\n",
              "    </tr>\n",
              "    <tr>\n",
              "      <th>5</th>\n",
              "      <td>aac00052</td>\n",
              "      <td>18</td>\n",
              "      <td>29</td>\n",
              "      <td>3</td>\n",
              "      <td>4</td>\n",
              "      <td>1</td>\n",
              "      <td>75</td>\n",
              "      <td>2.133333</td>\n",
              "      <td>3.000000</td>\n",
              "      <td>0</td>\n",
              "      <td>...</td>\n",
              "      <td>6.944444</td>\n",
              "      <td>0</td>\n",
              "      <td>0.222222</td>\n",
              "      <td>3.222222</td>\n",
              "      <td>0.061111</td>\n",
              "      <td>1.611111</td>\n",
              "      <td>1.944444</td>\n",
              "      <td>0.473544</td>\n",
              "      <td>1.444753</td>\n",
              "      <td>0.253571</td>\n",
              "    </tr>\n",
              "    <tr>\n",
              "      <th>6</th>\n",
              "      <td>aac00061</td>\n",
              "      <td>46</td>\n",
              "      <td>74</td>\n",
              "      <td>1</td>\n",
              "      <td>4</td>\n",
              "      <td>1</td>\n",
              "      <td>337</td>\n",
              "      <td>2.611276</td>\n",
              "      <td>3.086957</td>\n",
              "      <td>0</td>\n",
              "      <td>...</td>\n",
              "      <td>11.804348</td>\n",
              "      <td>0</td>\n",
              "      <td>0.086957</td>\n",
              "      <td>3.173913</td>\n",
              "      <td>0.005962</td>\n",
              "      <td>1.586957</td>\n",
              "      <td>1.086957</td>\n",
              "      <td>0.325266</td>\n",
              "      <td>0.890847</td>\n",
              "      <td>0.058015</td>\n",
              "    </tr>\n",
              "    <tr>\n",
              "      <th>7</th>\n",
              "      <td>aac00071</td>\n",
              "      <td>37</td>\n",
              "      <td>67</td>\n",
              "      <td>2</td>\n",
              "      <td>16</td>\n",
              "      <td>1</td>\n",
              "      <td>383</td>\n",
              "      <td>4.360313</td>\n",
              "      <td>3.405405</td>\n",
              "      <td>0</td>\n",
              "      <td>...</td>\n",
              "      <td>34.783784</td>\n",
              "      <td>0</td>\n",
              "      <td>0.000000</td>\n",
              "      <td>3.405405</td>\n",
              "      <td>0.031002</td>\n",
              "      <td>1.702703</td>\n",
              "      <td>5.810811</td>\n",
              "      <td>0.352584</td>\n",
              "      <td>3.354656</td>\n",
              "      <td>0.120828</td>\n",
              "    </tr>\n",
              "    <tr>\n",
              "      <th>8</th>\n",
              "      <td>aac00072</td>\n",
              "      <td>8</td>\n",
              "      <td>14</td>\n",
              "      <td>1</td>\n",
              "      <td>2</td>\n",
              "      <td>1</td>\n",
              "      <td>19</td>\n",
              "      <td>1.263158</td>\n",
              "      <td>3.500000</td>\n",
              "      <td>0</td>\n",
              "      <td>...</td>\n",
              "      <td>0.875000</td>\n",
              "      <td>0</td>\n",
              "      <td>0.000000</td>\n",
              "      <td>3.500000</td>\n",
              "      <td>0.014881</td>\n",
              "      <td>1.750000</td>\n",
              "      <td>0.875000</td>\n",
              "      <td>0.409722</td>\n",
              "      <td>0.623214</td>\n",
              "      <td>0.393750</td>\n",
              "    </tr>\n",
              "    <tr>\n",
              "      <th>9</th>\n",
              "      <td>aac00130</td>\n",
              "      <td>12</td>\n",
              "      <td>11</td>\n",
              "      <td>2</td>\n",
              "      <td>6</td>\n",
              "      <td>1</td>\n",
              "      <td>29</td>\n",
              "      <td>2.310345</td>\n",
              "      <td>1.833333</td>\n",
              "      <td>0</td>\n",
              "      <td>...</td>\n",
              "      <td>3.166667</td>\n",
              "      <td>0</td>\n",
              "      <td>0.000000</td>\n",
              "      <td>1.833333</td>\n",
              "      <td>0.118056</td>\n",
              "      <td>0.916667</td>\n",
              "      <td>2.166667</td>\n",
              "      <td>0.466865</td>\n",
              "      <td>1.444444</td>\n",
              "      <td>0.069444</td>\n",
              "    </tr>\n",
              "  </tbody>\n",
              "</table>\n",
              "<p>10 rows × 24 columns</p>\n",
              "</div>\n",
              "      <button class=\"colab-df-convert\" onclick=\"convertToInteractive('df-486d0d78-ce24-41ff-b263-08715665f5f3')\"\n",
              "              title=\"Convert this dataframe to an interactive table.\"\n",
              "              style=\"display:none;\">\n",
              "        \n",
              "  <svg xmlns=\"http://www.w3.org/2000/svg\" height=\"24px\"viewBox=\"0 0 24 24\"\n",
              "       width=\"24px\">\n",
              "    <path d=\"M0 0h24v24H0V0z\" fill=\"none\"/>\n",
              "    <path d=\"M18.56 5.44l.94 2.06.94-2.06 2.06-.94-2.06-.94-.94-2.06-.94 2.06-2.06.94zm-11 1L8.5 8.5l.94-2.06 2.06-.94-2.06-.94L8.5 2.5l-.94 2.06-2.06.94zm10 10l.94 2.06.94-2.06 2.06-.94-2.06-.94-.94-2.06-.94 2.06-2.06.94z\"/><path d=\"M17.41 7.96l-1.37-1.37c-.4-.4-.92-.59-1.43-.59-.52 0-1.04.2-1.43.59L10.3 9.45l-7.72 7.72c-.78.78-.78 2.05 0 2.83L4 21.41c.39.39.9.59 1.41.59.51 0 1.02-.2 1.41-.59l7.78-7.78 2.81-2.81c.8-.78.8-2.07 0-2.86zM5.41 20L4 18.59l7.72-7.72 1.47 1.35L5.41 20z\"/>\n",
              "  </svg>\n",
              "      </button>\n",
              "      \n",
              "  <style>\n",
              "    .colab-df-container {\n",
              "      display:flex;\n",
              "      flex-wrap:wrap;\n",
              "      gap: 12px;\n",
              "    }\n",
              "\n",
              "    .colab-df-convert {\n",
              "      background-color: #E8F0FE;\n",
              "      border: none;\n",
              "      border-radius: 50%;\n",
              "      cursor: pointer;\n",
              "      display: none;\n",
              "      fill: #1967D2;\n",
              "      height: 32px;\n",
              "      padding: 0 0 0 0;\n",
              "      width: 32px;\n",
              "    }\n",
              "\n",
              "    .colab-df-convert:hover {\n",
              "      background-color: #E2EBFA;\n",
              "      box-shadow: 0px 1px 2px rgba(60, 64, 67, 0.3), 0px 1px 3px 1px rgba(60, 64, 67, 0.15);\n",
              "      fill: #174EA6;\n",
              "    }\n",
              "\n",
              "    [theme=dark] .colab-df-convert {\n",
              "      background-color: #3B4455;\n",
              "      fill: #D2E3FC;\n",
              "    }\n",
              "\n",
              "    [theme=dark] .colab-df-convert:hover {\n",
              "      background-color: #434B5C;\n",
              "      box-shadow: 0px 1px 3px 1px rgba(0, 0, 0, 0.15);\n",
              "      filter: drop-shadow(0px 1px 2px rgba(0, 0, 0, 0.3));\n",
              "      fill: #FFFFFF;\n",
              "    }\n",
              "  </style>\n",
              "\n",
              "      <script>\n",
              "        const buttonEl =\n",
              "          document.querySelector('#df-486d0d78-ce24-41ff-b263-08715665f5f3 button.colab-df-convert');\n",
              "        buttonEl.style.display =\n",
              "          google.colab.kernel.accessAllowed ? 'block' : 'none';\n",
              "\n",
              "        async function convertToInteractive(key) {\n",
              "          const element = document.querySelector('#df-486d0d78-ce24-41ff-b263-08715665f5f3');\n",
              "          const dataTable =\n",
              "            await google.colab.kernel.invokeFunction('convertToInteractive',\n",
              "                                                     [key], {});\n",
              "          if (!dataTable) return;\n",
              "\n",
              "          const docLinkHtml = 'Like what you see? Visit the ' +\n",
              "            '<a target=\"_blank\" href=https://colab.research.google.com/notebooks/data_table.ipynb>data table notebook</a>'\n",
              "            + ' to learn more about interactive tables.';\n",
              "          element.innerHTML = '';\n",
              "          dataTable['output_type'] = 'display_data';\n",
              "          await google.colab.output.renderOutput(dataTable, element);\n",
              "          const docLink = document.createElement('div');\n",
              "          docLink.innerHTML = docLinkHtml;\n",
              "          element.appendChild(docLink);\n",
              "        }\n",
              "      </script>\n",
              "    </div>\n",
              "  </div>\n",
              "  "
            ]
          },
          "metadata": {},
          "execution_count": 2
        }
      ]
    },
    {
      "cell_type": "code",
      "source": [
        "df.isna().sum()"
      ],
      "metadata": {
        "colab": {
          "base_uri": "https://localhost:8080/"
        },
        "id": "oT89O8Puf3We",
        "outputId": "551ca213-d135-44fc-d31d-4b76d11c770e"
      },
      "execution_count": 3,
      "outputs": [
        {
          "output_type": "execute_result",
          "data": {
            "text/plain": [
              "Pathway                          0\n",
              "Nodes                            0\n",
              "Edges                            0\n",
              "Connected Components             0\n",
              "Network Diameter                 0\n",
              "Network Radius                   0\n",
              "Shortest Path                    0\n",
              "Characteristic Path Length       0\n",
              "Avg.num.Neighbours               0\n",
              "Isolated Nodes                   0\n",
              "Number of Self Loops             0\n",
              "Multi-edge Node Pair             0\n",
              "NeighborhoodConnectivity         0\n",
              "Outdegree                        0\n",
              "Stress                           0\n",
              "SelfLoops                        0\n",
              "PartnerOfMultiEdgedNodePairs     0\n",
              "EdgeCount                        0\n",
              "BetweennessCentrality            0\n",
              "Indegree                         0\n",
              "Eccentricity                     0\n",
              "ClosenessCentrality              0\n",
              "AverageShortestPathLength        0\n",
              "ClusteringCoefficient            0\n",
              "dtype: int64"
            ]
          },
          "metadata": {},
          "execution_count": 3
        }
      ]
    },
    {
      "cell_type": "code",
      "source": [
        "df.shape"
      ],
      "metadata": {
        "id": "LwV4z50Cf7pn",
        "colab": {
          "base_uri": "https://localhost:8080/"
        },
        "outputId": "b717bc83-d341-457d-cee1-2cc5732ba52d"
      },
      "execution_count": 4,
      "outputs": [
        {
          "output_type": "execute_result",
          "data": {
            "text/plain": [
              "(53413, 24)"
            ]
          },
          "metadata": {},
          "execution_count": 4
        }
      ]
    },
    {
      "cell_type": "code",
      "source": [
        "df.dtypes"
      ],
      "metadata": {
        "id": "NJDN03EMgbfm",
        "colab": {
          "base_uri": "https://localhost:8080/"
        },
        "outputId": "04b1be1a-1544-4814-b5c9-9d1b3e6e9062"
      },
      "execution_count": 5,
      "outputs": [
        {
          "output_type": "execute_result",
          "data": {
            "text/plain": [
              "Pathway                           object\n",
              "Nodes                              int64\n",
              "Edges                              int64\n",
              "Connected Components               int64\n",
              "Network Diameter                   int64\n",
              "Network Radius                     int64\n",
              "Shortest Path                      int64\n",
              "Characteristic Path Length       float64\n",
              "Avg.num.Neighbours               float64\n",
              "Isolated Nodes                     int64\n",
              "Number of Self Loops               int64\n",
              "Multi-edge Node Pair               int64\n",
              "NeighborhoodConnectivity         float64\n",
              "Outdegree                        float64\n",
              "Stress                           float64\n",
              "SelfLoops                          int64\n",
              "PartnerOfMultiEdgedNodePairs     float64\n",
              "EdgeCount                        float64\n",
              "BetweennessCentrality            float64\n",
              "Indegree                         float64\n",
              "Eccentricity                     float64\n",
              "ClosenessCentrality              float64\n",
              "AverageShortestPathLength        float64\n",
              "ClusteringCoefficient            float64\n",
              "dtype: object"
            ]
          },
          "metadata": {},
          "execution_count": 5
        }
      ]
    },
    {
      "cell_type": "code",
      "source": [
        "df.nunique()"
      ],
      "metadata": {
        "colab": {
          "base_uri": "https://localhost:8080/"
        },
        "id": "u6zQvja_jv8n",
        "outputId": "bda16d58-56af-421f-8827-115bd4a0495f"
      },
      "execution_count": 6,
      "outputs": [
        {
          "output_type": "execute_result",
          "data": {
            "text/plain": [
              "Pathway                          53413\n",
              "Nodes                              103\n",
              "Edges                              358\n",
              "Connected Components                13\n",
              "Network Diameter                    21\n",
              "Network Radius                       2\n",
              "Shortest Path                      920\n",
              "Characteristic Path Length        6066\n",
              "Avg.num.Neighbours                2411\n",
              "Isolated Nodes                       2\n",
              "Number of Self Loops                 1\n",
              "Multi-edge Node Pair                44\n",
              "NeighborhoodConnectivity         12001\n",
              "Outdegree                         2469\n",
              "Stress                            4771\n",
              "SelfLoops                            1\n",
              "PartnerOfMultiEdgedNodePairs       529\n",
              "EdgeCount                         2469\n",
              "BetweennessCentrality             9484\n",
              "Indegree                          2469\n",
              "Eccentricity                      2037\n",
              "ClosenessCentrality              13595\n",
              "AverageShortestPathLength        12729\n",
              "ClusteringCoefficient            10479\n",
              "dtype: int64"
            ]
          },
          "metadata": {},
          "execution_count": 6
        }
      ]
    },
    {
      "cell_type": "code",
      "source": [
        "df = df.drop(\"Pathway \",axis=1)"
      ],
      "metadata": {
        "id": "mYVG0zWgkrru"
      },
      "execution_count": 7,
      "outputs": []
    },
    {
      "cell_type": "code",
      "source": [
        "X = df.drop(\"NeighborhoodConnectivity \",axis=1)\n",
        "y=df[\"NeighborhoodConnectivity \"]"
      ],
      "metadata": {
        "id": "IzhDDyLnoGVV"
      },
      "execution_count": 8,
      "outputs": []
    },
    {
      "cell_type": "markdown",
      "source": [
        "# SPLITTING THE DATASET"
      ],
      "metadata": {
        "id": "Kbp5lXpog58P"
      }
    },
    {
      "cell_type": "code",
      "source": [
        "from sklearn.model_selection import train_test_split\n",
        "X_train, X_test, y_train, y_test = train_test_split(X, y, test_size = 0.25, random_state = 0)"
      ],
      "metadata": {
        "id": "KsLt-gcrli-5"
      },
      "execution_count": 9,
      "outputs": []
    },
    {
      "cell_type": "markdown",
      "source": [
        "# FEATURE SCALING"
      ],
      "metadata": {
        "id": "civRekeqhFKn"
      }
    },
    {
      "cell_type": "code",
      "source": [
        "from sklearn.preprocessing import StandardScaler\n",
        "sc = StandardScaler()\n",
        "X_train = sc.fit_transform(X_train)\n",
        "X_test = sc.transform(X_test)"
      ],
      "metadata": {
        "id": "Zq6cCsc6o-8A"
      },
      "execution_count": 10,
      "outputs": []
    },
    {
      "cell_type": "markdown",
      "source": [
        "# APPLYING PCA"
      ],
      "metadata": {
        "id": "1LnscxM1hNGI"
      }
    },
    {
      "cell_type": "code",
      "source": [
        "from sklearn.decomposition import PCA\n",
        "pca = PCA(n_components =15)\n",
        "X_train = pca.fit_transform(X_train)\n",
        "X_test = pca.transform(X_test)"
      ],
      "metadata": {
        "id": "d_oAauG-lngv"
      },
      "execution_count": 11,
      "outputs": []
    },
    {
      "cell_type": "code",
      "source": [
        "from sklearn.linear_model import LinearRegression\n",
        "from sklearn.svm import SVR\n",
        "from sklearn.tree import DecisionTreeRegressor\n",
        "from sklearn.ensemble import RandomForestRegressor\n",
        "from sklearn.metrics import r2_score\n",
        "from sklearn.preprocessing import PolynomialFeatures\n",
        "poly_reg = PolynomialFeatures(degree = 6)\n",
        "reg1_a = LinearRegression()\n",
        "reg2_r= SVR(kernel = 'rbf')\n",
        "reg3_v= DecisionTreeRegressor(random_state = 0)\n",
        "reg4_a= RandomForestRegressor(n_estimators = 15, random_state = 0)\n"
      ],
      "metadata": {
        "id": "Lnd2m8H6tqKa"
      },
      "execution_count": 12,
      "outputs": []
    },
    {
      "cell_type": "code",
      "source": [
        "reg=[reg1_a,reg2_r,reg3_v,reg4_a,reg1_a]\n",
        "reg_list=['lra','dtrr','svry','rfra','polyn']\n",
        "import time \n",
        "r_score={}\n",
        "t={}\n",
        "for model,model_name in zip(reg,reg_list):\n",
        "    if model_name=='poly':\n",
        "      X_train=poly_reg.fit_transform(X_train)\n",
        "      X_test=poly_reg.fit_transform(X_test)\n",
        "    start=time.time()\n",
        "    model.fit(X_train,y_train)\n",
        "    pred=model.predict(X_test)\n",
        "    et=time.time()\n",
        "    r_score[model_name]=r2_score(y_test,pred)\n",
        "    t[model_name]=et-start"
      ],
      "metadata": {
        "id": "NxLG5EmYtwV9"
      },
      "execution_count": 13,
      "outputs": []
    },
    {
      "cell_type": "code",
      "source": [
        "for i,j in r_score.items():\n",
        "    print(i,':-',j)"
      ],
      "metadata": {
        "id": "B4E3s2hsuh4q",
        "colab": {
          "base_uri": "https://localhost:8080/"
        },
        "outputId": "1fe35c5c-bf0d-424b-d9a8-4d473a9573ab"
      },
      "execution_count": 14,
      "outputs": [
        {
          "output_type": "stream",
          "name": "stdout",
          "text": [
            "lra :- 0.9438742874635677\n",
            "dtrr :- 0.9792836507030624\n",
            "svry :- 0.9819923879654109\n",
            "rfra :- 0.9905527421780146\n",
            "polyn :- 0.9438742874635677\n"
          ]
        }
      ]
    },
    {
      "cell_type": "code",
      "source": [
        "import matplotlib.pyplot as plt\n",
        "\n",
        "# Assuming you have the predicted values in 'y_pred' and actual values in 'y_actual'\n",
        "\n",
        "# Scatter Plot\n",
        "plt.scatter(pred, y_test)\n",
        "plt.xlabel('Predicted Values')\n",
        "plt.ylabel('Actual Values')\n",
        "plt.title('Regression: Predicted vs Actual')\n",
        "plt.show()\n",
        "\n",
        "# Residual Plot\n",
        "residuals = y_test - pred\n",
        "plt.scatter(pred, residuals)\n",
        "plt.xlabel('Predicted Values')\n",
        "plt.ylabel('Residuals')\n",
        "plt.title('Regression: Residual Plot')\n",
        "plt.axhline(y=0, color='r', linestyle='--')  # Adding a horizontal line at y=0\n",
        "plt.show()"
      ],
      "metadata": {
        "colab": {
          "base_uri": "https://localhost:8080/",
          "height": 927
        },
        "id": "YFZ3KnxTwNtI",
        "outputId": "88f0fb42-1964-4df2-f158-e82e224ce706"
      },
      "execution_count": 15,
      "outputs": [
        {
          "output_type": "display_data",
          "data": {
            "text/plain": [
              "<Figure size 640x480 with 1 Axes>"
            ],
            "image/png": "[encoded data removed]"
          },
          "metadata": {}
        },
        {
          "output_type": "display_data",
          "data": {
            "text/plain": [
              "<Figure size 640x480 with 1 Axes>"
            ],
            "image/png": "[encoded data removed]"
          },
          "metadata": {}
        }
      ]
    }
  ]
}